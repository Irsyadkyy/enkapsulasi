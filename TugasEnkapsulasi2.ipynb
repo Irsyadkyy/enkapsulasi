{
  "nbformat": 4,
  "nbformat_minor": 0,
  "metadata": {
    "colab": {
      "provenance": [],
      "include_colab_link": true
    },
    "kernelspec": {
      "name": "python3",
      "display_name": "Python 3"
    },
    "language_info": {
      "name": "python"
    }
  },
  "cells": [
    {
      "cell_type": "markdown",
      "metadata": {
        "id": "view-in-github",
        "colab_type": "text"
      },
      "source": [
        "<a href=\"https://colab.research.google.com/github/Irsyadkyy/enkapsulasi/blob/main/TugasEnkapsulasi2.ipynb\" target=\"_parent\"><img src=\"https://colab.research.google.com/assets/colab-badge.svg\" alt=\"Open In Colab\"/></a>"
      ]
    },
    {
      "cell_type": "code",
      "source": [
        "# Desain class\n",
        "class RekeningBank:\n",
        "  def __init__(self, namapemilik, saldo):\n",
        "    self.__namapemilik = namapemilik\n",
        "    self.__saldo = saldo\n",
        "\n",
        "  def get_namapemilik(self):\n",
        "    return self.__namapemilik\n",
        "\n",
        "  def set_namapemilik(self, namapemilik):\n",
        "    self.__namapemilik = namapemilik\n",
        "\n",
        "  def get_saldo(self):\n",
        "    return self.__saldo\n",
        "\n",
        "  def set_saldo(self, saldo):\n",
        "    if saldo > 1000000000:\n",
        "      self.__saldo = 1000000000\n",
        "\n",
        "    elif saldo < 500000000:\n",
        "      self.__saldo = 500000000\n",
        "\n",
        "    else:\n",
        "      self.__saldo = saldo"
      ],
      "metadata": {
        "id": "Pyj-mkyciVfk"
      },
      "execution_count": 1,
      "outputs": []
    },
    {
      "cell_type": "code",
      "source": [
        "\n",
        "#Program utama untuk mendemonstrasikan class RekeningBank\n",
        "nasabah1 = RekeningBank(\"Irsyad\", 2000000000)\n",
        "\n",
        "print(\"Nama =\",nasabah1.get_namapemilik())\n",
        "print(\"Saldo =\",nasabah1.get_saldo())\n",
        "\n",
        "\n",
        "#yang menunjukkan penggunaan semua fungsi yang ada"
      ],
      "metadata": {
        "id": "JnbvPIJqjjAY",
        "outputId": "cfd47e13-0416-445a-fe41-1f55e22a092a",
        "colab": {
          "base_uri": "https://localhost:8080/"
        }
      },
      "execution_count": 3,
      "outputs": [
        {
          "output_type": "stream",
          "name": "stdout",
          "text": [
            "Nama = Irsyad\n",
            "Saldo = 2000000000\n"
          ]
        }
      ]
    }
  ]
}